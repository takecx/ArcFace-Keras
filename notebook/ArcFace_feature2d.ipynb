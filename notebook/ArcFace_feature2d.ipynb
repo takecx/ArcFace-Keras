{
 "cells": [
  {
   "cell_type": "markdown",
   "metadata": {},
   "source": [
    "# ArcFaceを実装する\n",
    "\n",
    "## paper\n",
    "https://arxiv.org/abs/1801.07698\n",
    "\n",
    "## 参考URL\n",
    "https://qiita.com/noritsugu_yamada/items/2e049cd7a8fd77eee0f5"
   ]
  },
  {
   "cell_type": "code",
   "execution_count": 23,
   "metadata": {},
   "outputs": [],
   "source": [
    "%matplotlib inline\n",
    "import keras\n",
    "from keras.utils import to_categorical\n",
    "from keras.datasets import mnist\n",
    "import matplotlib.pyplot as plt\n",
    "import numpy as np"
   ]
  },
  {
   "cell_type": "code",
   "execution_count": 105,
   "metadata": {},
   "outputs": [],
   "source": [
    "(x_train, y_train), (x_test, y_test) = mnist.load_data()"
   ]
  },
  {
   "cell_type": "code",
   "execution_count": 106,
   "metadata": {},
   "outputs": [],
   "source": [
    "def show_image(image_data):\n",
    "    plt.figure(figsize=(16,8))\n",
    "    plt.imshow(image_data)\n",
    "    plt.show()"
   ]
  },
  {
   "cell_type": "code",
   "execution_count": 107,
   "metadata": {},
   "outputs": [
    {
     "name": "stdout",
     "output_type": "stream",
     "text": [
      "(28, 28, 1)\n"
     ]
    }
   ],
   "source": [
    "# データを正規化する\n",
    "#show_image(x_train[0])\n",
    "x_train = np.expand_dims(x_train,axis=3)\n",
    "x_test = np.expand_dims(x_test,axis=3)\n",
    "x_train = x_train.astype('float32')\n",
    "x_test = x_test.astype('float32')\n",
    "x_train = x_train / 255.\n",
    "x_test = x_test / 255.\n",
    "print(x_train[0].shape)\n",
    "#show_image(x_train[0])"
   ]
  },
  {
   "cell_type": "code",
   "execution_count": 108,
   "metadata": {},
   "outputs": [
    {
     "name": "stdout",
     "output_type": "stream",
     "text": [
      "5\n",
      "[0. 0. 0. 0. 0. 1. 0. 0. 0. 0.]\n"
     ]
    }
   ],
   "source": [
    "# one-hotベクトル化\n",
    "num_classes = 10\n",
    "print(y_train[0])\n",
    "y_train = to_categorical(y_train,num_classes)\n",
    "y_test = to_categorical(y_test,num_classes)\n",
    "print(y_train[0])"
   ]
  },
  {
   "cell_type": "code",
   "execution_count": 113,
   "metadata": {},
   "outputs": [],
   "source": [
    "from keras.models import Sequential\n",
    "from keras.layers import Conv2D,MaxPooling2D\n",
    "\n",
    "def create_feature_extraction_model():\n",
    "    inputs = Input(shape=(28,28,1)) \n",
    "    base_model = Sequential()\n",
    "    base_model.add(Conv2D(32,kernel_size=(3,3),activation='relu',input_shape=(28,28,1)))\n",
    "    base_model.add(Conv2D(64, (3, 3), activation='relu'))\n",
    "    base_model.add(MaxPooling2D(pool_size=(2, 2)))\n",
    "    base_model.add(Conv2D(2, (3, 3), activation='relu'))\n",
    "    #base_model.compile(optimizer='adam',\n",
    "    #          loss='categorical_crossentropy',\n",
    "    #          metrics=['accuracy'])\n",
    "    #base_model.summary()\n",
    "    return base_model"
   ]
  },
  {
   "cell_type": "code",
   "execution_count": 77,
   "metadata": {},
   "outputs": [],
   "source": [
    "# オリジナルレイヤーの定義\n",
    "# https://keras.io/ja/layers/writing-your-own-keras-layers/\n",
    "from keras import backend as K\n",
    "from keras.engine.topology import Layer\n",
    "import numpy as np\n",
    "import tensorflow as tf\n",
    "\n",
    "class ArcFace(Layer):\n",
    "    def __init__(self, output_dim,margin,scale, **kwargs):\n",
    "        self.output_dim = output_dim\n",
    "        self.m = margin\n",
    "        self.s = scale\n",
    "        super(ArcFace, self).__init__(**kwargs)\n",
    "\n",
    "    def build(self, input_shape):\n",
    "        '''\n",
    "        input[0] : last layer's feature\n",
    "        input[1] : y_label\n",
    "        '''\n",
    "        # Create a trainable weight variable for this layer.\n",
    "        self.kernel = self.add_weight(name='kernel',\n",
    "                                      shape=(input_shape[0][1], self.output_dim),\n",
    "                                      initializer='uniform',\n",
    "                                      trainable=True)\n",
    "        super(ArcFace, self).build(input_shape)  # Be sure to call this somewhere!\n",
    "\n",
    "    def call(self, x):\n",
    "        # 正解ラベル\n",
    "        y = x[1]\n",
    "        y_label = tf.argmax(y,axis=1)\n",
    "        # 正規化（単位ベクトルに変換）\n",
    "        x_normalize = K.l2_normalize(x[0],axis=0)\n",
    "        weights_normalize = K.l2_normalize(self.kernel,axis=1)\n",
    "        # サンプルデータの特徴ベクトルと各クラスの代表ベクトルとの内積を計算\n",
    "        # これにより特徴ベクトルと各代表ベクトルとのcosθがわかる\n",
    "        cosines = K.dot(x_normalize,weights_normalize)\n",
    "        print(type(cosines))\n",
    "\n",
    "        # 正解クラスに対応するcosθのみ、その値をcos(θ + m(argin))に変更する\n",
    "        # 加法定理\n",
    "        # cos(θ + m) = cos(θ)cos(m) - sin(θ)sin(m)\n",
    "        #cos_theta = [cosines[i] for i in y if i == 1]\n",
    "        #cos_theta = cosines[y_label]\n",
    "        cos_m = K.cos(self.m)\n",
    "        #sin_theta = K.sqrt(1 - K.square(target_cos))\n",
    "        sin_theta = K.sqrt(1 - K.square(cosines))\n",
    "        sin_m = K.sin(self.m)\n",
    "        cos_theta_plus_m = cosines * cos_m - sin_theta * sin_m\n",
    "        \n",
    "        # 正解クラスに対応するcosθだけ入れ替える\n",
    "        #output = [cosines[i] if y[i] == 0 else cos_theta_plus_m for i in range(len(y))]\n",
    "        # y * cosines : 正解ラベルに対応するものだけ残る\n",
    "        # (1 - y) * cosines : その他のラベルに対応するものはそのまま残す\n",
    "        output = (y * cos_theta_plus_m) + ((1 - y) * cosines)\n",
    "        \n",
    "        # softmaxにかける前に出力をself.s倍する\n",
    "        output = output * self.s\n",
    "        \n",
    "        return output\n",
    "\n",
    "    def compute_output_shape(self, input_shape):\n",
    "        return (input_shape[0][0], self.output_dim)\n"
   ]
  },
  {
   "cell_type": "code",
   "execution_count": 82,
   "metadata": {},
   "outputs": [],
   "source": [
    "from keras.models import Model\n",
    "from keras.layers import Input,Activation,GlobalAveragePooling2D\n",
    "\n",
    "def create_arcface_model(base_model,n_classes,margin,scale):\n",
    "    x = base_model.output\n",
    "    yinput = Input(shape=(n_classes,)) #ArcFaceで使用\n",
    "    features = GlobalAveragePooling2D()(x) \n",
    "    x = ArcFace(n_classes,margin , scale)([features,yinput]) #outputをクラス数と同じ数に\n",
    "    prediction = Activation('softmax')(x)\n",
    "    arcface_model = Model(inputs=[base_model.input,yinput],outputs=prediction)\n",
    "    return arcface_model"
   ]
  },
  {
   "cell_type": "code",
   "execution_count": 83,
   "metadata": {},
   "outputs": [],
   "source": [
    "def create_model(n_classes,margin,scale):\n",
    "    base_model = create_feature_extraction_model()\n",
    "    arcface_model = create_arcface_model(base_model,n_classes,margin,scale)\n",
    "    return arcface_model"
   ]
  },
  {
   "cell_type": "code",
   "execution_count": 114,
   "metadata": {},
   "outputs": [
    {
     "name": "stdout",
     "output_type": "stream",
     "text": [
      "<class 'tensorflow.python.framework.ops.Tensor'>\n",
      "__________________________________________________________________________________________________\n",
      "Layer (type)                    Output Shape         Param #     Connected to                     \n",
      "==================================================================================================\n",
      "conv2d_33_input (InputLayer)    (None, 28, 28, 1)    0                                            \n",
      "__________________________________________________________________________________________________\n",
      "conv2d_33 (Conv2D)              (None, 26, 26, 32)   320         conv2d_33_input[0][0]            \n",
      "__________________________________________________________________________________________________\n",
      "conv2d_34 (Conv2D)              (None, 24, 24, 64)   18496       conv2d_33[0][0]                  \n",
      "__________________________________________________________________________________________________\n",
      "max_pooling2d_17 (MaxPooling2D) (None, 12, 12, 64)   0           conv2d_34[0][0]                  \n",
      "__________________________________________________________________________________________________\n",
      "conv2d_35 (Conv2D)              (None, 10, 10, 2)    1154        max_pooling2d_17[0][0]           \n",
      "__________________________________________________________________________________________________\n",
      "global_average_pooling2d_15 (Gl (None, 2)            0           conv2d_35[0][0]                  \n",
      "__________________________________________________________________________________________________\n",
      "input_32 (InputLayer)           (None, 10)           0                                            \n",
      "__________________________________________________________________________________________________\n",
      "arc_face_15 (ArcFace)           (None, 10)           20          global_average_pooling2d_15[0][0]\n",
      "                                                                 input_32[0][0]                   \n",
      "__________________________________________________________________________________________________\n",
      "activation_8 (Activation)       (None, 10)           0           arc_face_15[0][0]                \n",
      "==================================================================================================\n",
      "Total params: 19,990\n",
      "Trainable params: 19,990\n",
      "Non-trainable params: 0\n",
      "__________________________________________________________________________________________________\n"
     ]
    }
   ],
   "source": [
    "# ArcFaceのパラメータ\n",
    "n_classes = 10\n",
    "margin = 0.1\n",
    "scale = 30\n",
    "arcface_model = create_model(n_classes,margin,scale)\n",
    "arcface_model.summary()\n",
    "arcface_model.compile(optimizer='adam',\n",
    "          loss='categorical_crossentropy',\n",
    "          metrics=['accuracy'])"
   ]
  },
  {
   "cell_type": "markdown",
   "metadata": {},
   "source": [
    "# 学習"
   ]
  },
  {
   "cell_type": "code",
   "execution_count": 116,
   "metadata": {},
   "outputs": [
    {
     "name": "stdout",
     "output_type": "stream",
     "text": [
      "Train on 54000 samples, validate on 6000 samples\n",
      "Epoch 1/20\n",
      "54000/54000 [==============================] - 76s 1ms/step - loss: 4.1588 - acc: 0.0787 - val_loss: 4.0895 - val_acc: 0.0855\n",
      "Epoch 2/20\n",
      "54000/54000 [==============================] - 73s 1ms/step - loss: 4.1299 - acc: 0.1071 - val_loss: 4.0641 - val_acc: 0.1432\n",
      "Epoch 3/20\n",
      "54000/54000 [==============================] - 72s 1ms/step - loss: 4.1054 - acc: 0.1336 - val_loss: 4.0486 - val_acc: 0.1602\n",
      "Epoch 4/20\n",
      "54000/54000 [==============================] - 96s 2ms/step - loss: 4.0894 - acc: 0.1466 - val_loss: 4.0255 - val_acc: 0.1488\n",
      "Epoch 5/20\n",
      "54000/54000 [==============================] - 85s 2ms/step - loss: 4.0746 - acc: 0.1550 - val_loss: 4.0154 - val_acc: 0.1747\n",
      "Epoch 6/20\n",
      "54000/54000 [==============================] - 88s 2ms/step - loss: 4.0620 - acc: 0.1616 - val_loss: 4.0181 - val_acc: 0.1628\n",
      "Epoch 7/20\n",
      "54000/54000 [==============================] - 87s 2ms/step - loss: 4.0507 - acc: 0.1688 - val_loss: 4.0103 - val_acc: 0.1707\n",
      "Epoch 8/20\n",
      "54000/54000 [==============================] - 108s 2ms/step - loss: 4.0442 - acc: 0.1696 - val_loss: 4.0082 - val_acc: 0.1665\n",
      "Epoch 9/20\n",
      "54000/54000 [==============================] - 115s 2ms/step - loss: 4.0421 - acc: 0.1727 - val_loss: 4.0008 - val_acc: 0.1680\n",
      "Epoch 10/20\n",
      "54000/54000 [==============================] - 111s 2ms/step - loss: 4.0344 - acc: 0.1735 - val_loss: 4.0030 - val_acc: 0.1872\n",
      "Epoch 11/20\n",
      "54000/54000 [==============================] - 126s 2ms/step - loss: 4.0305 - acc: 0.1747 - val_loss: 3.9984 - val_acc: 0.1890\n",
      "Epoch 12/20\n",
      "54000/54000 [==============================] - 131s 2ms/step - loss: 4.0214 - acc: 0.1781 - val_loss: 3.9912 - val_acc: 0.2010\n",
      "Epoch 13/20\n",
      "54000/54000 [==============================] - 137s 3ms/step - loss: 4.0170 - acc: 0.1804 - val_loss: 3.9831 - val_acc: 0.2025\n",
      "Epoch 14/20\n",
      "54000/54000 [==============================] - 139s 3ms/step - loss: 4.0099 - acc: 0.1834 - val_loss: 3.9893 - val_acc: 0.1897\n",
      "Epoch 15/20\n",
      "54000/54000 [==============================] - 142s 3ms/step - loss: 4.0112 - acc: 0.1829 - val_loss: 3.9841 - val_acc: 0.2045\n",
      "Epoch 16/20\n",
      "54000/54000 [==============================] - 126s 2ms/step - loss: 4.0067 - acc: 0.1850 - val_loss: 3.9762 - val_acc: 0.2038\n",
      "Epoch 17/20\n",
      "54000/54000 [==============================] - 136s 3ms/step - loss: 3.9995 - acc: 0.1865 - val_loss: 3.9739 - val_acc: 0.2015\n",
      "Epoch 18/20\n",
      "54000/54000 [==============================] - 122s 2ms/step - loss: 3.9970 - acc: 0.1893 - val_loss: 3.9743 - val_acc: 0.1973\n",
      "Epoch 19/20\n",
      "54000/54000 [==============================] - 121s 2ms/step - loss: 3.9972 - acc: 0.1891 - val_loss: 3.9729 - val_acc: 0.1945\n",
      "Epoch 20/20\n",
      "54000/54000 [==============================] - 149s 3ms/step - loss: 3.9937 - acc: 0.1902 - val_loss: 3.9799 - val_acc: 0.2020\n"
     ]
    }
   ],
   "source": [
    "from keras import callbacks\n",
    "\n",
    "# パラメータ\n",
    "batch_size = 32\n",
    "epochs = 20\n",
    "verbose = 1\n",
    "validation_split = 0.1\n",
    "model_path = 'arcface_margin{}_scale{}_mnist.hdf5'.format(margin,scale)\n",
    "\n",
    "callbacks_list = [\n",
    "        #バリデーションlossが改善したらモデルをsave\n",
    "        callbacks.ModelCheckpoint(\n",
    "        filepath=model_path,\n",
    "        monitor=\"val_loss\",\n",
    "        save_weights_only=True,\n",
    "        save_best_only=True),\n",
    "\n",
    "        #バリデーションlossが改善しなくなったら学習率を変更する\n",
    "        callbacks.ReduceLROnPlateau(\n",
    "            monitor=\"val_loss\",\n",
    "            factor=0.8,\n",
    "            patience=5,\n",
    "            verbose=1)]\n",
    "history = arcface_model.fit([x_train,y_train],y_train,batch_size=batch_size,epochs=epochs,verbose=verbose,validation_split=validation_split,callbacks=callbacks_list)"
   ]
  },
  {
   "cell_type": "code",
   "execution_count": 120,
   "metadata": {},
   "outputs": [
    {
     "data": {
      "image/png": "[encoded data removed]",
      "text/plain": [
       "<Figure size 1152x576 with 2 Axes>"
      ]
     },
     "metadata": {
      "needs_background": "light"
     },
     "output_type": "display_data"
    }
   ],
   "source": [
    "plt.figure(figsize=(16,8))\n",
    "plt.subplot(121)\n",
    "plt.plot(history.history['acc'],label='acc')\n",
    "plt.plot(history.history['val_acc'],label='val_acc')\n",
    "plt.legend()\n",
    "plt.subplot(122)\n",
    "plt.plot(history.history['loss'],label='loss')\n",
    "plt.plot(history.history['val_loss'],label='val_loss')\n",
    "plt.legend()\n",
    "plt.show()"
   ]
  },
  {
   "cell_type": "code",
   "execution_count": 122,
   "metadata": {},
   "outputs": [
    {
     "ename": "ValueError",
     "evalue": "Error when checking model input: the list of Numpy arrays that you are passing to your model is not the size the model expected. Expected to see 2 array(s), but instead got the following list of 1 arrays: [array([[[[0.],\n         [0.],\n         [0.],\n         ...,\n         [0.],\n         [0.],\n         [0.]],\n\n        [[0.],\n         [0.],\n         [0.],\n         ...,\n         [0.],\n         [0.],\n    ...",
     "output_type": "error",
     "traceback": [
      "\u001b[0;31m---------------------------------------------------------------------------\u001b[0m",
      "\u001b[0;31mValueError\u001b[0m                                Traceback (most recent call last)",
      "\u001b[0;32m<ipython-input-122-103fe1392c14>\u001b[0m in \u001b[0;36m<module>\u001b[0;34m\u001b[0m\n\u001b[0;32m----> 1\u001b[0;31m \u001b[0my_pred\u001b[0m \u001b[0;34m=\u001b[0m \u001b[0marcface_model\u001b[0m\u001b[0;34m.\u001b[0m\u001b[0mpredict\u001b[0m\u001b[0;34m(\u001b[0m\u001b[0mx_test\u001b[0m\u001b[0;34m,\u001b[0m\u001b[0mbatch_size\u001b[0m\u001b[0;34m=\u001b[0m\u001b[0;36m32\u001b[0m\u001b[0;34m)\u001b[0m\u001b[0;34m\u001b[0m\u001b[0;34m\u001b[0m\u001b[0m\n\u001b[0m",
      "\u001b[0;32m/anaconda3/envs/arcface/lib/python3.7/site-packages/keras/engine/training.py\u001b[0m in \u001b[0;36mpredict\u001b[0;34m(self, x, batch_size, verbose, steps)\u001b[0m\n\u001b[1;32m   1147\u001b[0m                              'argument.')\n\u001b[1;32m   1148\u001b[0m         \u001b[0;31m# Validate user data.\u001b[0m\u001b[0;34m\u001b[0m\u001b[0;34m\u001b[0m\u001b[0;34m\u001b[0m\u001b[0m\n\u001b[0;32m-> 1149\u001b[0;31m         \u001b[0mx\u001b[0m\u001b[0;34m,\u001b[0m \u001b[0m_\u001b[0m\u001b[0;34m,\u001b[0m \u001b[0m_\u001b[0m \u001b[0;34m=\u001b[0m \u001b[0mself\u001b[0m\u001b[0;34m.\u001b[0m\u001b[0m_standardize_user_data\u001b[0m\u001b[0;34m(\u001b[0m\u001b[0mx\u001b[0m\u001b[0;34m)\u001b[0m\u001b[0;34m\u001b[0m\u001b[0;34m\u001b[0m\u001b[0m\n\u001b[0m\u001b[1;32m   1150\u001b[0m         \u001b[0;32mif\u001b[0m \u001b[0mself\u001b[0m\u001b[0;34m.\u001b[0m\u001b[0mstateful\u001b[0m\u001b[0;34m:\u001b[0m\u001b[0;34m\u001b[0m\u001b[0;34m\u001b[0m\u001b[0m\n\u001b[1;32m   1151\u001b[0m             \u001b[0;32mif\u001b[0m \u001b[0mx\u001b[0m\u001b[0;34m[\u001b[0m\u001b[0;36m0\u001b[0m\u001b[0;34m]\u001b[0m\u001b[0;34m.\u001b[0m\u001b[0mshape\u001b[0m\u001b[0;34m[\u001b[0m\u001b[0;36m0\u001b[0m\u001b[0;34m]\u001b[0m \u001b[0;34m>\u001b[0m \u001b[0mbatch_size\u001b[0m \u001b[0;32mand\u001b[0m \u001b[0mx\u001b[0m\u001b[0;34m[\u001b[0m\u001b[0;36m0\u001b[0m\u001b[0;34m]\u001b[0m\u001b[0;34m.\u001b[0m\u001b[0mshape\u001b[0m\u001b[0;34m[\u001b[0m\u001b[0;36m0\u001b[0m\u001b[0;34m]\u001b[0m \u001b[0;34m%\u001b[0m \u001b[0mbatch_size\u001b[0m \u001b[0;34m!=\u001b[0m \u001b[0;36m0\u001b[0m\u001b[0;34m:\u001b[0m\u001b[0;34m\u001b[0m\u001b[0;34m\u001b[0m\u001b[0m\n",
      "\u001b[0;32m/anaconda3/envs/arcface/lib/python3.7/site-packages/keras/engine/training.py\u001b[0m in \u001b[0;36m_standardize_user_data\u001b[0;34m(self, x, y, sample_weight, class_weight, check_array_lengths, batch_size)\u001b[0m\n\u001b[1;32m    749\u001b[0m             \u001b[0mfeed_input_shapes\u001b[0m\u001b[0;34m,\u001b[0m\u001b[0;34m\u001b[0m\u001b[0;34m\u001b[0m\u001b[0m\n\u001b[1;32m    750\u001b[0m             \u001b[0mcheck_batch_axis\u001b[0m\u001b[0;34m=\u001b[0m\u001b[0;32mFalse\u001b[0m\u001b[0;34m,\u001b[0m  \u001b[0;31m# Don't enforce the batch size.\u001b[0m\u001b[0;34m\u001b[0m\u001b[0;34m\u001b[0m\u001b[0m\n\u001b[0;32m--> 751\u001b[0;31m             exception_prefix='input')\n\u001b[0m\u001b[1;32m    752\u001b[0m \u001b[0;34m\u001b[0m\u001b[0m\n\u001b[1;32m    753\u001b[0m         \u001b[0;32mif\u001b[0m \u001b[0my\u001b[0m \u001b[0;32mis\u001b[0m \u001b[0;32mnot\u001b[0m \u001b[0;32mNone\u001b[0m\u001b[0;34m:\u001b[0m\u001b[0;34m\u001b[0m\u001b[0;34m\u001b[0m\u001b[0m\n",
      "\u001b[0;32m/anaconda3/envs/arcface/lib/python3.7/site-packages/keras/engine/training_utils.py\u001b[0m in \u001b[0;36mstandardize_input_data\u001b[0;34m(data, names, shapes, check_batch_axis, exception_prefix)\u001b[0m\n\u001b[1;32m    100\u001b[0m                 \u001b[0;34m'Expected to see '\u001b[0m \u001b[0;34m+\u001b[0m \u001b[0mstr\u001b[0m\u001b[0;34m(\u001b[0m\u001b[0mlen\u001b[0m\u001b[0;34m(\u001b[0m\u001b[0mnames\u001b[0m\u001b[0;34m)\u001b[0m\u001b[0;34m)\u001b[0m \u001b[0;34m+\u001b[0m \u001b[0;34m' array(s), '\u001b[0m\u001b[0;34m\u001b[0m\u001b[0;34m\u001b[0m\u001b[0m\n\u001b[1;32m    101\u001b[0m                 \u001b[0;34m'but instead got the following list of '\u001b[0m \u001b[0;34m+\u001b[0m\u001b[0;34m\u001b[0m\u001b[0;34m\u001b[0m\u001b[0m\n\u001b[0;32m--> 102\u001b[0;31m                 str(len(data)) + ' arrays: ' + str(data)[:200] + '...')\n\u001b[0m\u001b[1;32m    103\u001b[0m         \u001b[0;32melif\u001b[0m \u001b[0mlen\u001b[0m\u001b[0;34m(\u001b[0m\u001b[0mnames\u001b[0m\u001b[0;34m)\u001b[0m \u001b[0;34m>\u001b[0m \u001b[0;36m1\u001b[0m\u001b[0;34m:\u001b[0m\u001b[0;34m\u001b[0m\u001b[0;34m\u001b[0m\u001b[0m\n\u001b[1;32m    104\u001b[0m             raise ValueError(\n",
      "\u001b[0;31mValueError\u001b[0m: Error when checking model input: the list of Numpy arrays that you are passing to your model is not the size the model expected. Expected to see 2 array(s), but instead got the following list of 1 arrays: [array([[[[0.],\n         [0.],\n         [0.],\n         ...,\n         [0.],\n         [0.],\n         [0.]],\n\n        [[0.],\n         [0.],\n         [0.],\n         ...,\n         [0.],\n         [0.],\n    ..."
     ]
    }
   ],
   "source": [
    "# predict用のmodel. ArcFaceLayerを除き,重みはloadして使用する\n",
    "def create_predict_model(n_categories, file_path):\n",
    "    arcface_model = create_mobilenet_with_arcface(n_categories, file_path) #学習と同じlayer数\n",
    "    predict_model = Model(arcface_model.get_layer(index=0).input, arcface_model.get_layer(index=-4).output) # MobileNetV2の出力までにして再構築\n",
    "    predict_model.summary()\n",
    "\n",
    "    return predict_model"
   ]
  },
  {
   "cell_type": "code",
   "execution_count": 132,
   "metadata": {},
   "outputs": [
    {
     "name": "stdout",
     "output_type": "stream",
     "text": [
      "_________________________________________________________________\n",
      "Layer (type)                 Output Shape              Param #   \n",
      "=================================================================\n",
      "conv2d_33_input (InputLayer) (None, 28, 28, 1)         0         \n",
      "_________________________________________________________________\n",
      "conv2d_33 (Conv2D)           (None, 26, 26, 32)        320       \n",
      "_________________________________________________________________\n",
      "conv2d_34 (Conv2D)           (None, 24, 24, 64)        18496     \n",
      "_________________________________________________________________\n",
      "max_pooling2d_17 (MaxPooling (None, 12, 12, 64)        0         \n",
      "_________________________________________________________________\n",
      "conv2d_35 (Conv2D)           (None, 10, 10, 2)         1154      \n",
      "_________________________________________________________________\n",
      "global_average_pooling2d_15  (None, 2)                 0         \n",
      "=================================================================\n",
      "Total params: 19,970\n",
      "Trainable params: 19,970\n",
      "Non-trainable params: 0\n",
      "_________________________________________________________________\n"
     ]
    }
   ],
   "source": [
    "predict_model = Model(arcface_model.get_layer(index=0).input, arcface_model.get_layer(index=5).output)\n",
    "predict_model.summary()"
   ]
  },
  {
   "cell_type": "code",
   "execution_count": 133,
   "metadata": {},
   "outputs": [
    {
     "name": "stdout",
     "output_type": "stream",
     "text": [
      "10000/10000 [==============================] - 3s 260us/step\n"
     ]
    }
   ],
   "source": [
    "batch_size = 32\n",
    "feature_pred = predict_model.predict(x_test,batch_size=batch_size,verbose=1)"
   ]
  },
  {
   "cell_type": "code",
   "execution_count": 140,
   "metadata": {},
   "outputs": [],
   "source": [
    "from sklearn.preprocessing import normalize\n",
    "# l2正規化\n",
    "feature_pred_normalize = normalize(feature_pred,norm='l2')\n",
    "#feature_pred_normalize = np.l2_normalize(feature_pred)"
   ]
  },
  {
   "cell_type": "code",
   "execution_count": 154,
   "metadata": {},
   "outputs": [
    {
     "name": "stderr",
     "output_type": "stream",
     "text": [
      "W0716 09:11:50.820250 4705490368 legend.py:1282] No handles with labels found to put in legend.\n"
     ]
    },
    {
     "data": {
      "image/png": "[encoded data removed]",
      "text/plain": [
       "<Figure size 720x720 with 1 Axes>"
      ]
     },
     "metadata": {
      "needs_background": "light"
     },
     "output_type": "display_data"
    }
   ],
   "source": [
    "import matplotlib.cm as cm\n",
    "# 可視化\n",
    "y_test_label = np.argmax(y_test,axis=1)\n",
    "plt.figure(figsize=(10,10))\n",
    "plt.scatter(feature_pred_normalize[:,0],feature_pred_normalize[:,1],c=y_test_label,cmap=cm.seismic)\n",
    "plt.legend()\n",
    "plt.show()"
   ]
  },
  {
   "cell_type": "code",
   "execution_count": 142,
   "metadata": {},
   "outputs": [
    {
     "data": {
      "text/plain": [
       "array([0.832684 , 0.9736706, 0.       , ..., 0.       , 1.       ,\n",
       "       1.       ], dtype=float32)"
      ]
     },
     "execution_count": 142,
     "metadata": {},
     "output_type": "execute_result"
    }
   ],
   "source": [
    "feature_pred_normalize[:,0]"
   ]
  },
  {
   "cell_type": "code",
   "execution_count": 146,
   "metadata": {},
   "outputs": [
    {
     "data": {
      "text/plain": [
       "array([0., 0., 0., 0., 0., 0., 0., 1., 0., 0.], dtype=float32)"
      ]
     },
     "execution_count": 146,
     "metadata": {},
     "output_type": "execute_result"
    }
   ],
   "source": [
    "y_test[0]"
   ]
  },
  {
   "cell_type": "code",
   "execution_count": 149,
   "metadata": {},
   "outputs": [
    {
     "data": {
      "text/plain": [
       "array([7, 2, 1, ..., 4, 5, 6])"
      ]
     },
     "execution_count": 149,
     "metadata": {},
     "output_type": "execute_result"
    }
   ],
   "source": [
    "y_test_label = np.argmax(y_test,axis=1)\n",
    "y_test_label"
   ]
  },
  {
   "cell_type": "code",
   "execution_count": null,
   "metadata": {},
   "outputs": [],
   "source": []
  }
 ],
 "metadata": {
  "kernelspec": {
   "display_name": "arcface",
   "language": "python",
   "name": "arcface"
  },
  "language_info": {
   "codemirror_mode": {
    "name": "ipython",
    "version": 3
   },
   "file_extension": ".py",
   "mimetype": "text/x-python",
   "name": "python",
   "nbconvert_exporter": "python",
   "pygments_lexer": "ipython3",
   "version": "3.7.3"
  }
 },
 "nbformat": 4,
 "nbformat_minor": 2
}
